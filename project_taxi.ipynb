{
  "nbformat": 4,
  "nbformat_minor": 0,
  "metadata": {
    "colab": {
      "provenance": [],
      "mount_file_id": "1w5S_deYWpJ-pgzT-_4baN5zm8YQKDj41",
      "authorship_tag": "ABX9TyMkSyB5ExxHsItt3MAKtMcH",
      "include_colab_link": true
    },
    "kernelspec": {
      "name": "python3",
      "display_name": "Python 3"
    },
    "language_info": {
      "name": "python"
    }
  },
  "cells": [
    {
      "cell_type": "markdown",
      "metadata": {
        "id": "view-in-github",
        "colab_type": "text"
      },
      "source": [
        "<a href=\"https://colab.research.google.com/github/mathewspmathew/big_data_pyspark_nyctaxi/blob/main/project_taxi.ipynb\" target=\"_parent\"><img src=\"https://colab.research.google.com/assets/colab-badge.svg\" alt=\"Open In Colab\"/></a>"
      ]
    },
    {
      "cell_type": "code",
      "execution_count": null,
      "metadata": {
        "colab": {
          "base_uri": "https://localhost:8080/"
        },
        "id": "qHbHrMIQbWOu",
        "outputId": "8b3da519-5877-4607-f0c0-3fecf19b8c34"
      },
      "outputs": [
        {
          "output_type": "stream",
          "name": "stdout",
          "text": [
            "Drive already mounted at /content/drive; to attempt to forcibly remount, call drive.mount(\"/content/drive\", force_remount=True).\n"
          ]
        }
      ],
      "source": [
        "from google.colab import drive\n",
        "drive.mount('/content/drive')"
      ]
    },
    {
      "cell_type": "code",
      "source": [
        "from pyspark.sql import SparkSession"
      ],
      "metadata": {
        "id": "0OeShzlVcFlg"
      },
      "execution_count": null,
      "outputs": []
    },
    {
      "cell_type": "code",
      "source": [
        "from pyspark.sql.functions import col, to_timestamp,datediff"
      ],
      "metadata": {
        "id": "MqSL1Vsh-LRM"
      },
      "execution_count": null,
      "outputs": []
    },
    {
      "cell_type": "code",
      "source": [
        "spark = SparkSession.builder.appName('taxi').getOrCreate()"
      ],
      "metadata": {
        "id": "Z6xyUzfZfaJH"
      },
      "execution_count": null,
      "outputs": []
    },
    {
      "cell_type": "code",
      "source": [
        "yellow25jan = spark.read.parquet('/content/drive/MyDrive/taxi project/yellow_tripdata_2025-01.parquet',header=True, inferSchema = True)"
      ],
      "metadata": {
        "id": "4lVKtPT0gP32"
      },
      "execution_count": null,
      "outputs": []
    },
    {
      "cell_type": "code",
      "source": [
        "yellow25jan.show(5)"
      ],
      "metadata": {
        "colab": {
          "base_uri": "https://localhost:8080/"
        },
        "id": "fyCWHenqzCSY",
        "outputId": "92a7f737-7cb5-4c73-b79a-694a4069b23e"
      },
      "execution_count": null,
      "outputs": [
        {
          "output_type": "stream",
          "name": "stdout",
          "text": [
            "+--------+--------------------+---------------------+---------------+-------------+----------+------------------+------------+------------+------------+-----------+-----+-------+----------+------------+---------------------+------------+--------------------+-----------+------------------+\n",
            "|VendorID|tpep_pickup_datetime|tpep_dropoff_datetime|passenger_count|trip_distance|RatecodeID|store_and_fwd_flag|PULocationID|DOLocationID|payment_type|fare_amount|extra|mta_tax|tip_amount|tolls_amount|improvement_surcharge|total_amount|congestion_surcharge|Airport_fee|cbd_congestion_fee|\n",
            "+--------+--------------------+---------------------+---------------+-------------+----------+------------------+------------+------------+------------+-----------+-----+-------+----------+------------+---------------------+------------+--------------------+-----------+------------------+\n",
            "|       1| 2025-01-01 00:18:38|  2025-01-01 00:26:59|              1|          1.6|         1|                 N|         229|         237|           1|       10.0|  3.5|    0.5|       3.0|         0.0|                  1.0|        18.0|                 2.5|        0.0|               0.0|\n",
            "|       1| 2025-01-01 00:32:40|  2025-01-01 00:35:13|              1|          0.5|         1|                 N|         236|         237|           1|        5.1|  3.5|    0.5|      2.02|         0.0|                  1.0|       12.12|                 2.5|        0.0|               0.0|\n",
            "|       1| 2025-01-01 00:44:04|  2025-01-01 00:46:01|              1|          0.6|         1|                 N|         141|         141|           1|        5.1|  3.5|    0.5|       2.0|         0.0|                  1.0|        12.1|                 2.5|        0.0|               0.0|\n",
            "|       2| 2025-01-01 00:14:27|  2025-01-01 00:20:01|              3|         0.52|         1|                 N|         244|         244|           2|        7.2|  1.0|    0.5|       0.0|         0.0|                  1.0|         9.7|                 0.0|        0.0|               0.0|\n",
            "|       2| 2025-01-01 00:21:34|  2025-01-01 00:25:06|              3|         0.66|         1|                 N|         244|         116|           2|        5.8|  1.0|    0.5|       0.0|         0.0|                  1.0|         8.3|                 0.0|        0.0|               0.0|\n",
            "+--------+--------------------+---------------------+---------------+-------------+----------+------------------+------------+------------+------------+-----------+-----+-------+----------+------------+---------------------+------------+--------------------+-----------+------------------+\n",
            "only showing top 5 rows\n",
            "\n"
          ]
        }
      ]
    },
    {
      "cell_type": "code",
      "source": [
        "yellow25jan.columns"
      ],
      "metadata": {
        "colab": {
          "base_uri": "https://localhost:8080/"
        },
        "id": "hj2B7rA1zHrJ",
        "outputId": "d99eba07-3d28-44b7-e9e8-65e4c6760b68"
      },
      "execution_count": null,
      "outputs": [
        {
          "output_type": "execute_result",
          "data": {
            "text/plain": [
              "['VendorID',\n",
              " 'tpep_pickup_datetime',\n",
              " 'tpep_dropoff_datetime',\n",
              " 'passenger_count',\n",
              " 'trip_distance',\n",
              " 'RatecodeID',\n",
              " 'store_and_fwd_flag',\n",
              " 'PULocationID',\n",
              " 'DOLocationID',\n",
              " 'payment_type',\n",
              " 'fare_amount',\n",
              " 'extra',\n",
              " 'mta_tax',\n",
              " 'tip_amount',\n",
              " 'tolls_amount',\n",
              " 'improvement_surcharge',\n",
              " 'total_amount',\n",
              " 'congestion_surcharge',\n",
              " 'Airport_fee',\n",
              " 'cbd_congestion_fee']"
            ]
          },
          "metadata": {},
          "execution_count": 11
        }
      ]
    },
    {
      "cell_type": "code",
      "source": [
        "yellow25jan.count()"
      ],
      "metadata": {
        "colab": {
          "base_uri": "https://localhost:8080/"
        },
        "id": "NeR8JEJ-4dzl",
        "outputId": "106a2541-0870-482b-e847-bd6fbb28053f"
      },
      "execution_count": null,
      "outputs": [
        {
          "output_type": "execute_result",
          "data": {
            "text/plain": [
              "3475226"
            ]
          },
          "metadata": {},
          "execution_count": 12
        }
      ]
    },
    {
      "cell_type": "code",
      "source": [
        "yellow_taxi_df = spark.read.parquet(\"/content/drive/MyDrive/taxi project/yellow_*.parquet\", inferSchema = True)\n"
      ],
      "metadata": {
        "id": "zwLRbOyU7KTw"
      },
      "execution_count": null,
      "outputs": []
    },
    {
      "cell_type": "code",
      "source": [
        "yellow_taxi_df"
      ],
      "metadata": {
        "colab": {
          "base_uri": "https://localhost:8080/"
        },
        "id": "uRlejTk78u3x",
        "outputId": "5c30fbe7-40af-488f-8000-d08075923824"
      },
      "execution_count": null,
      "outputs": [
        {
          "output_type": "execute_result",
          "data": {
            "text/plain": [
              "DataFrame[VendorID: int, tpep_pickup_datetime: timestamp_ntz, tpep_dropoff_datetime: timestamp_ntz, passenger_count: bigint, trip_distance: double, RatecodeID: bigint, store_and_fwd_flag: string, PULocationID: int, DOLocationID: int, payment_type: bigint, fare_amount: double, extra: double, mta_tax: double, tip_amount: double, tolls_amount: double, improvement_surcharge: double, total_amount: double, congestion_surcharge: double, Airport_fee: double, cbd_congestion_fee: double]"
            ]
          },
          "metadata": {},
          "execution_count": 14
        }
      ]
    },
    {
      "cell_type": "code",
      "source": [
        "yellow_taxi_df.count()\n"
      ],
      "metadata": {
        "colab": {
          "base_uri": "https://localhost:8080/"
        },
        "id": "YJpnKeym8qXl",
        "outputId": "bf81f4e2-4441-45bc-b47f-17bee4898278"
      },
      "execution_count": null,
      "outputs": [
        {
          "output_type": "execute_result",
          "data": {
            "text/plain": [
              "11198026"
            ]
          },
          "metadata": {},
          "execution_count": 15
        }
      ]
    },
    {
      "cell_type": "code",
      "source": [
        "yellow_taxi_df.printSchema()"
      ],
      "metadata": {
        "colab": {
          "base_uri": "https://localhost:8080/"
        },
        "id": "JpgEYoLA9lyw",
        "outputId": "cdc0a93f-8f8d-4ed7-9f98-2970908ec9a7"
      },
      "execution_count": null,
      "outputs": [
        {
          "output_type": "stream",
          "name": "stdout",
          "text": [
            "root\n",
            " |-- VendorID: integer (nullable = true)\n",
            " |-- tpep_pickup_datetime: timestamp_ntz (nullable = true)\n",
            " |-- tpep_dropoff_datetime: timestamp_ntz (nullable = true)\n",
            " |-- passenger_count: long (nullable = true)\n",
            " |-- trip_distance: double (nullable = true)\n",
            " |-- RatecodeID: long (nullable = true)\n",
            " |-- store_and_fwd_flag: string (nullable = true)\n",
            " |-- PULocationID: integer (nullable = true)\n",
            " |-- DOLocationID: integer (nullable = true)\n",
            " |-- payment_type: long (nullable = true)\n",
            " |-- fare_amount: double (nullable = true)\n",
            " |-- extra: double (nullable = true)\n",
            " |-- mta_tax: double (nullable = true)\n",
            " |-- tip_amount: double (nullable = true)\n",
            " |-- tolls_amount: double (nullable = true)\n",
            " |-- improvement_surcharge: double (nullable = true)\n",
            " |-- total_amount: double (nullable = true)\n",
            " |-- congestion_surcharge: double (nullable = true)\n",
            " |-- Airport_fee: double (nullable = true)\n",
            " |-- cbd_congestion_fee: double (nullable = true)\n",
            "\n"
          ]
        }
      ]
    },
    {
      "cell_type": "code",
      "source": [
        "yellow_taxi_df.show(5)"
      ],
      "metadata": {
        "colab": {
          "base_uri": "https://localhost:8080/"
        },
        "id": "vkvCCqr59gMk",
        "outputId": "f2c6a8a8-a712-4a51-94d1-d7c2e029f1ff"
      },
      "execution_count": null,
      "outputs": [
        {
          "output_type": "stream",
          "name": "stdout",
          "text": [
            "+--------+--------------------+---------------------+---------------+-------------+----------+------------------+------------+------------+------------+-----------+-----+-------+----------+------------+---------------------+------------+--------------------+-----------+------------------+\n",
            "|VendorID|tpep_pickup_datetime|tpep_dropoff_datetime|passenger_count|trip_distance|RatecodeID|store_and_fwd_flag|PULocationID|DOLocationID|payment_type|fare_amount|extra|mta_tax|tip_amount|tolls_amount|improvement_surcharge|total_amount|congestion_surcharge|Airport_fee|cbd_congestion_fee|\n",
            "+--------+--------------------+---------------------+---------------+-------------+----------+------------------+------------+------------+------------+-----------+-----+-------+----------+------------+---------------------+------------+--------------------+-----------+------------------+\n",
            "|       1| 2025-03-01 00:17:16|  2025-03-01 00:25:52|              1|          0.9|         1|                 N|         140|         236|           1|        7.9|  3.5|    0.5|       2.6|         0.0|                  1.0|        15.5|                 2.5|        0.0|               0.0|\n",
            "|       1| 2025-03-01 00:37:38|  2025-03-01 00:43:51|              1|          0.6|         1|                 N|         140|         262|           1|        6.5|  3.5|    0.5|       2.3|         0.0|                  1.0|        13.8|                 2.5|        0.0|               0.0|\n",
            "|       2| 2025-03-01 00:24:35|  2025-03-01 00:39:49|              1|         1.94|         1|                 N|         161|          68|           1|       14.9|  1.0|    0.5|      5.16|         0.0|                  1.0|       25.81|                 2.5|        0.0|              0.75|\n",
            "|       2| 2025-03-01 00:56:16|  2025-03-01 01:01:35|              2|         0.95|         1|                 N|         231|          13|           1|        7.2|  1.0|    0.5|      2.59|         0.0|                  1.0|       15.54|                 2.5|        0.0|              0.75|\n",
            "|       1| 2025-03-01 00:01:44|  2025-03-01 00:10:00|              1|          1.5|         1|                 N|         163|         236|           1|        8.6| 4.25|    0.5|      2.85|         0.0|                  1.0|        17.2|                 2.5|        0.0|              0.75|\n",
            "+--------+--------------------+---------------------+---------------+-------------+----------+------------------+------------+------------+------------+-----------+-----+-------+----------+------------+---------------------+------------+--------------------+-----------+------------------+\n",
            "only showing top 5 rows\n",
            "\n"
          ]
        }
      ]
    },
    {
      "cell_type": "code",
      "source": [
        "from pyspark.sql.functions import col, unix_timestamp, hour, dayofweek, dayofmonth, month, year, round, lit"
      ],
      "metadata": {
        "id": "wGpva4YJHSA2"
      },
      "execution_count": null,
      "outputs": []
    },
    {
      "cell_type": "code",
      "source": [
        "yellow_taxi_df = yellow_taxi_df.withColumn(\"trip_duration_minutes\",\n",
        "                   round((unix_timestamp(col(\"tpep_dropoff_datetime\")) - unix_timestamp(col(\"tpep_pickup_datetime\"))) / 60, 2))\n"
      ],
      "metadata": {
        "id": "IiiwgAxtHTZn"
      },
      "execution_count": null,
      "outputs": []
    },
    {
      "cell_type": "code",
      "source": [
        "yellow_taxi_df = yellow_taxi_df.withColumn(\"picked_hour\",hour(col(\"tpep_pickup_datetime\")))\n",
        "yellow_taxi_df = yellow_taxi_df.withColumn(\"pickup_day_of_week\", dayofweek(col(\"tpep_pickup_datetime\"))) # Sunday = 1, Saturday = 7\n",
        "yellow_taxi_df = yellow_taxi_df.withColumn(\"pickup_month\", month(col(\"tpep_pickup_datetime\")))\n",
        "yellow_taxi_df = yellow_taxi_df.withColumn(\"pickup_year\", year(col(\"tpep_pickup_datetime\")))\n"
      ],
      "metadata": {
        "id": "FeY0biG2IQZY"
      },
      "execution_count": null,
      "outputs": []
    },
    {
      "cell_type": "code",
      "source": [
        "yellow_taxi_df = yellow_taxi_df.withColumn(\"avg_speed_mph\",\n",
        "                   round(col(\"trip_distance\") / (col(\"trip_duration_minutes\") / 60), 2)).na.fill(0, subset=['avg_speed_mph'])"
      ],
      "metadata": {
        "id": "mOSrmpQyIQNG"
      },
      "execution_count": null,
      "outputs": []
    },
    {
      "cell_type": "code",
      "source": [
        "yellow_taxi_df.show(5)"
      ],
      "metadata": {
        "colab": {
          "base_uri": "https://localhost:8080/"
        },
        "id": "56K230dlIJzr",
        "outputId": "5d3ed4a5-bfb2-4a65-c8ad-f162054e3413"
      },
      "execution_count": null,
      "outputs": [
        {
          "output_type": "stream",
          "name": "stdout",
          "text": [
            "+--------+--------------------+---------------------+---------------+-------------+----------+------------------+------------+------------+------------+-----------+-----+-------+----------+------------+---------------------+------------+--------------------+-----------+------------------+---------------------+-----------+------------------+------------+-----------+-------------+\n",
            "|VendorID|tpep_pickup_datetime|tpep_dropoff_datetime|passenger_count|trip_distance|RatecodeID|store_and_fwd_flag|PULocationID|DOLocationID|payment_type|fare_amount|extra|mta_tax|tip_amount|tolls_amount|improvement_surcharge|total_amount|congestion_surcharge|Airport_fee|cbd_congestion_fee|trip_duration_minutes|picked_hour|pickup_day_of_week|pickup_month|pickup_year|avg_speed_mph|\n",
            "+--------+--------------------+---------------------+---------------+-------------+----------+------------------+------------+------------+------------+-----------+-----+-------+----------+------------+---------------------+------------+--------------------+-----------+------------------+---------------------+-----------+------------------+------------+-----------+-------------+\n",
            "|       1| 2025-03-01 00:17:16|  2025-03-01 00:25:52|              1|          0.9|         1|                 N|         140|         236|           1|        7.9|  3.5|    0.5|       2.6|         0.0|                  1.0|        15.5|                 2.5|        0.0|               0.0|                  8.6|          0|                 7|           3|       2025|         6.28|\n",
            "|       1| 2025-03-01 00:37:38|  2025-03-01 00:43:51|              1|          0.6|         1|                 N|         140|         262|           1|        6.5|  3.5|    0.5|       2.3|         0.0|                  1.0|        13.8|                 2.5|        0.0|               0.0|                 6.22|          0|                 7|           3|       2025|         5.79|\n",
            "|       2| 2025-03-01 00:24:35|  2025-03-01 00:39:49|              1|         1.94|         1|                 N|         161|          68|           1|       14.9|  1.0|    0.5|      5.16|         0.0|                  1.0|       25.81|                 2.5|        0.0|              0.75|                15.23|          0|                 7|           3|       2025|         7.64|\n",
            "|       2| 2025-03-01 00:56:16|  2025-03-01 01:01:35|              2|         0.95|         1|                 N|         231|          13|           1|        7.2|  1.0|    0.5|      2.59|         0.0|                  1.0|       15.54|                 2.5|        0.0|              0.75|                 5.32|          0|                 7|           3|       2025|        10.71|\n",
            "|       1| 2025-03-01 00:01:44|  2025-03-01 00:10:00|              1|          1.5|         1|                 N|         163|         236|           1|        8.6| 4.25|    0.5|      2.85|         0.0|                  1.0|        17.2|                 2.5|        0.0|              0.75|                 8.27|          0|                 7|           3|       2025|        10.88|\n",
            "+--------+--------------------+---------------------+---------------+-------------+----------+------------------+------------+------------+------------+-----------+-----+-------+----------+------------+---------------------+------------+--------------------+-----------+------------------+---------------------+-----------+------------------+------------+-----------+-------------+\n",
            "only showing top 5 rows\n",
            "\n"
          ]
        }
      ]
    },
    {
      "cell_type": "code",
      "source": [
        "\n",
        "print(\"\\nSchema after Feature Engineering:\")\n",
        "yellow_taxi_df.printSchema()"
      ],
      "metadata": {
        "colab": {
          "base_uri": "https://localhost:8080/"
        },
        "id": "PFpLpGVpTwy9",
        "outputId": "fee8e832-645e-4ffd-c504-047c97e18022"
      },
      "execution_count": null,
      "outputs": [
        {
          "output_type": "stream",
          "name": "stdout",
          "text": [
            "\n",
            "Schema after Feature Engineering:\n",
            "root\n",
            " |-- VendorID: integer (nullable = true)\n",
            " |-- tpep_pickup_datetime: timestamp_ntz (nullable = true)\n",
            " |-- tpep_dropoff_datetime: timestamp_ntz (nullable = true)\n",
            " |-- passenger_count: long (nullable = true)\n",
            " |-- trip_distance: double (nullable = true)\n",
            " |-- RatecodeID: long (nullable = true)\n",
            " |-- store_and_fwd_flag: string (nullable = true)\n",
            " |-- PULocationID: integer (nullable = true)\n",
            " |-- DOLocationID: integer (nullable = true)\n",
            " |-- payment_type: long (nullable = true)\n",
            " |-- fare_amount: double (nullable = true)\n",
            " |-- extra: double (nullable = true)\n",
            " |-- mta_tax: double (nullable = true)\n",
            " |-- tip_amount: double (nullable = true)\n",
            " |-- tolls_amount: double (nullable = true)\n",
            " |-- improvement_surcharge: double (nullable = true)\n",
            " |-- total_amount: double (nullable = true)\n",
            " |-- congestion_surcharge: double (nullable = true)\n",
            " |-- Airport_fee: double (nullable = true)\n",
            " |-- cbd_congestion_fee: double (nullable = true)\n",
            " |-- trip_duration_minutes: double (nullable = true)\n",
            " |-- picked_hour: integer (nullable = true)\n",
            " |-- pickup_day_of_week: integer (nullable = true)\n",
            " |-- pickup_month: integer (nullable = true)\n",
            " |-- pickup_year: integer (nullable = true)\n",
            " |-- avg_speed_mph: double (nullable = false)\n",
            "\n"
          ]
        }
      ]
    },
    {
      "cell_type": "code",
      "source": [
        "yellow_taxi_df.select(\"tpep_pickup_datetime\", \"tpep_dropoff_datetime\", \"trip_duration_minutes\", \"trip_distance\", \"avg_speed_mph\").show(5)"
      ],
      "metadata": {
        "colab": {
          "base_uri": "https://localhost:8080/"
        },
        "id": "jAO89XKkT3xN",
        "outputId": "0f5612e0-4963-4d4f-ed7b-456892987662"
      },
      "execution_count": null,
      "outputs": [
        {
          "output_type": "stream",
          "name": "stdout",
          "text": [
            "+--------------------+---------------------+---------------------+-------------+-------------+\n",
            "|tpep_pickup_datetime|tpep_dropoff_datetime|trip_duration_minutes|trip_distance|avg_speed_mph|\n",
            "+--------------------+---------------------+---------------------+-------------+-------------+\n",
            "| 2025-03-01 00:17:16|  2025-03-01 00:25:52|                  8.6|          0.9|         6.28|\n",
            "| 2025-03-01 00:37:38|  2025-03-01 00:43:51|                 6.22|          0.6|         5.79|\n",
            "| 2025-03-01 00:24:35|  2025-03-01 00:39:49|                15.23|         1.94|         7.64|\n",
            "| 2025-03-01 00:56:16|  2025-03-01 01:01:35|                 5.32|         0.95|        10.71|\n",
            "| 2025-03-01 00:01:44|  2025-03-01 00:10:00|                 8.27|          1.5|        10.88|\n",
            "+--------------------+---------------------+---------------------+-------------+-------------+\n",
            "only showing top 5 rows\n",
            "\n"
          ]
        }
      ]
    },
    {
      "cell_type": "code",
      "source": [],
      "metadata": {
        "id": "cG6y8unUT-FZ"
      },
      "execution_count": null,
      "outputs": []
    },
    {
      "cell_type": "markdown",
      "source": [
        "## **Data Analysis with Spark SQL**"
      ],
      "metadata": {
        "id": "hhYn27v3UC5v"
      }
    },
    {
      "cell_type": "code",
      "source": [
        "yellow_taxi_df.createOrReplaceTempView('taxi_trips')"
      ],
      "metadata": {
        "id": "-JiT-4XNT_A6"
      },
      "execution_count": null,
      "outputs": []
    },
    {
      "cell_type": "code",
      "source": [
        "print('top 10 busiest pickup locations')\n",
        "spark.sql(\"\"\"select PULocationID,count(*) as trip_count\n",
        "from taxi_trips\n",
        "group by PULocationID\n",
        "order by trip_count DESC limit 10\"\"\").show()"
      ],
      "metadata": {
        "colab": {
          "base_uri": "https://localhost:8080/"
        },
        "id": "nurQ9NnoUaGq",
        "outputId": "44244a22-1a77-4155-8387-c13cecc8351d"
      },
      "execution_count": null,
      "outputs": [
        {
          "output_type": "stream",
          "name": "stdout",
          "text": [
            "top 10 busiest pickup locations\n",
            "+------------+----------+\n",
            "|PULocationID|trip_count|\n",
            "+------------+----------+\n",
            "|         161|    513560|\n",
            "|         237|    491957|\n",
            "|         236|    456758|\n",
            "|         132|    433506|\n",
            "|         230|    377216|\n",
            "|         186|    365697|\n",
            "|         162|    360560|\n",
            "|         142|    332387|\n",
            "|         234|    312841|\n",
            "|         170|    303493|\n",
            "+------------+----------+\n",
            "\n"
          ]
        }
      ]
    },
    {
      "cell_type": "code",
      "source": [
        "print(\"Average Fare Amount per Payment Type:\")\n",
        "spark.sql(\"\"\"select payment_type,avg(fare_amount) from taxi_trips\n",
        "group by payment_type\n",
        "\n",
        " \"\"\").show()"
      ],
      "metadata": {
        "colab": {
          "base_uri": "https://localhost:8080/"
        },
        "id": "QaZc9HuzWaBS",
        "outputId": "cafa9e51-c402-460a-baec-63034f9fe5f7"
      },
      "execution_count": null,
      "outputs": [
        {
          "output_type": "stream",
          "name": "stdout",
          "text": [
            "Average Fare Amount per Payment Type:\n",
            "+------------+------------------+\n",
            "|payment_type|  avg(fare_amount)|\n",
            "+------------+------------------+\n",
            "|           0| 15.88277128780659|\n",
            "|           1| 18.28014870802496|\n",
            "|           3| 6.688736663634095|\n",
            "|           2|16.547671394496405|\n",
            "|           4| 4.204852490683514|\n",
            "|           5|               0.0|\n",
            "+------------+------------------+\n",
            "\n"
          ]
        }
      ]
    },
    {
      "cell_type": "code",
      "source": [
        "print(\"Total Earnings by Day of Week:\")\n",
        "spark.sql(\"\"\"\n",
        "    select pickup_day_of_week, round(SUM(total_amount), 2) as total_earnings\n",
        "    from taxi_trips\n",
        "    group by pickup_day_of_week\n",
        "    order by total_earnings DESC\n",
        "\"\"\").show()"
      ],
      "metadata": {
        "colab": {
          "base_uri": "https://localhost:8080/"
        },
        "id": "eW4g6iQ2XrH_",
        "outputId": "fd73da1e-4fe0-4b4d-959c-1562633f1148"
      },
      "execution_count": null,
      "outputs": [
        {
          "output_type": "stream",
          "name": "stdout",
          "text": [
            "\n",
            "Total Earnings by Day of Week:\n",
            "+------------------+--------------+\n",
            "|pickup_day_of_week|total_earnings|\n",
            "+------------------+--------------+\n",
            "|                 5| 4.589042865E7|\n",
            "|                 6| 4.430891304E7|\n",
            "|                 7| 4.371275757E7|\n",
            "|                 4| 4.181682593E7|\n",
            "|                 1| 3.848102633E7|\n",
            "|                 3| 3.675645689E7|\n",
            "|                 2| 3.646538527E7|\n",
            "+------------------+--------------+\n",
            "\n"
          ]
        }
      ]
    },
    {
      "cell_type": "code",
      "source": [
        "print(\"Top 5 Longest Trips by Distance:\")\n",
        "spark.sql(\"\"\"\n",
        "    select trip_distance, trip_duration_minutes, total_amount, PULocationID, DOLocationID\n",
        "    from taxi_trips\n",
        "    order by trip_distance DESC\n",
        "    limit 5\n",
        "\"\"\").show()"
      ],
      "metadata": {
        "colab": {
          "base_uri": "https://localhost:8080/"
        },
        "id": "aiCkWWQdYlom",
        "outputId": "41b7e9f8-5052-47cc-9f40-fc7732e9d123"
      },
      "execution_count": null,
      "outputs": [
        {
          "output_type": "stream",
          "name": "stdout",
          "text": [
            "Top 5 Longest Trips by Distance:\n",
            "+-------------+---------------------+------------+------------+------------+\n",
            "|trip_distance|trip_duration_minutes|total_amount|PULocationID|DOLocationID|\n",
            "+-------------+---------------------+------------+------------+------------+\n",
            "|    320136.29|                  7.0|        2.38|         161|         163|\n",
            "|    281085.57|                 10.0|       11.48|         215|         130|\n",
            "|    280125.56|                 20.0|       23.03|         215|         258|\n",
            "|    276423.57|                  9.0|         5.0|         161|         170|\n",
            "|    276099.95|                  7.0|       13.88|         224|         233|\n",
            "+-------------+---------------------+------------+------------+------------+\n",
            "\n"
          ]
        }
      ]
    },
    {
      "cell_type": "code",
      "source": [],
      "metadata": {
        "id": "MHJrYJInmOhZ"
      },
      "execution_count": null,
      "outputs": []
    },
    {
      "cell_type": "markdown",
      "source": [
        "Building Data Pipelines"
      ],
      "metadata": {
        "id": "XOs3MlIbmRd9"
      }
    },
    {
      "cell_type": "code",
      "source": [
        "from pyspark.sql.functions import to_date\n",
        "from pyspark.sql.functions import avg, sum, count, round\n"
      ],
      "metadata": {
        "id": "WSKMNmmVmMXK"
      },
      "execution_count": null,
      "outputs": []
    },
    {
      "cell_type": "code",
      "source": [
        "daily_stats_df = yellow_taxi_df.withColumn(\"pickup_date\", to_date(col(\"tpep_pickup_datetime\")))\n"
      ],
      "metadata": {
        "id": "h7Zcc_ZwmXJJ"
      },
      "execution_count": null,
      "outputs": []
    },
    {
      "cell_type": "code",
      "source": [
        "\n",
        "daily_summary = daily_stats_df.groupBy(\"pickup_date\") \\\n",
        "    .agg(\n",
        "        round(avg(\"trip_distance\"), 2).alias(\"avg_daily_trip_distance\"),\n",
        "        round(sum(\"total_amount\"), 2).alias(\"total_daily_revenue\"),\n",
        "        count(\"*\").alias(\"total_daily_trips\")\n",
        "    ) \\\n",
        "    .orderBy(\"pickup_date\")\n"
      ],
      "metadata": {
        "id": "xOJztiCOmchJ"
      },
      "execution_count": null,
      "outputs": []
    },
    {
      "cell_type": "code",
      "source": [
        "print(\"\\nDaily Summary of Trips:\")\n",
        "daily_summary.show()"
      ],
      "metadata": {
        "colab": {
          "base_uri": "https://localhost:8080/"
        },
        "id": "vQnr8h6_nA5N",
        "outputId": "d4bf4bf8-cc87-4dbc-c3f8-f21b6857b852"
      },
      "execution_count": null,
      "outputs": [
        {
          "output_type": "stream",
          "name": "stdout",
          "text": [
            "\n",
            "Daily Summary of Trips:\n",
            "+-----------+-----------------------+-------------------+-----------------+\n",
            "|pickup_date|avg_daily_trip_distance|total_daily_revenue|total_daily_trips|\n",
            "+-----------+-----------------------+-------------------+-----------------+\n",
            "| 2007-12-05|                    3.0|              22.75|                1|\n",
            "| 2009-01-01|                  10.77|              70.39|                1|\n",
            "| 2024-12-31|                   3.66|             589.17|               21|\n",
            "| 2025-01-01|                   6.43|          2291683.0|            90188|\n",
            "| 2025-01-02|                   3.68|         2362624.59|            84832|\n",
            "| 2025-01-03|                    6.0|         2438794.47|            91250|\n",
            "| 2025-01-04|                   3.24|         2488944.14|            97804|\n",
            "| 2025-01-05|                   3.82|         2226058.63|            79624|\n",
            "| 2025-01-06|                    4.4|         2213771.75|            80126|\n",
            "| 2025-01-07|                   3.43|         2589091.07|           100643|\n",
            "| 2025-01-08|                    2.9|         2848398.53|           113897|\n",
            "| 2025-01-09|                   6.06|         3039258.82|           119285|\n",
            "| 2025-01-10|                    5.9|         2884812.31|           111494|\n",
            "| 2025-01-11|                   6.99|         2904881.88|           121966|\n",
            "| 2025-01-12|                   8.68|         2636042.15|           102510|\n",
            "| 2025-01-13|                   5.53|         2628218.59|           100492|\n",
            "| 2025-01-14|                   6.58|         3079084.01|           121735|\n",
            "| 2025-01-15|                    6.3|         3187032.51|           125359|\n",
            "| 2025-01-16|                   7.78|         3595777.16|           138711|\n",
            "| 2025-01-17|                   7.68|         3116709.57|           120994|\n",
            "+-----------+-----------------------+-------------------+-----------------+\n",
            "only showing top 20 rows\n",
            "\n"
          ]
        }
      ]
    },
    {
      "cell_type": "markdown",
      "source": [
        "# Visualizations"
      ],
      "metadata": {
        "id": "1OH2PRO-fu7J"
      }
    },
    {
      "cell_type": "code",
      "source": [
        "import matplotlib.pyplot as plt\n",
        "import pandas as pd\n",
        "import seaborn as sns"
      ],
      "metadata": {
        "id": "MhwtUgG4fzzL"
      },
      "execution_count": null,
      "outputs": []
    },
    {
      "cell_type": "code",
      "source": [
        "# Sample data for plotting daily revenue\n",
        "daily_revenue_pd = daily_summary.toPandas() # Convert daily summary to Pandas\n",
        "daily_revenue_pd['pickup_date'] = pd.to_datetime(daily_revenue_pd['pickup_date']) # Ensure date format"
      ],
      "metadata": {
        "id": "fO5n3Nljf3iw"
      },
      "execution_count": null,
      "outputs": []
    },
    {
      "cell_type": "code",
      "source": [],
      "metadata": {
        "id": "D8p01ypxrsn4"
      },
      "execution_count": null,
      "outputs": []
    },
    {
      "cell_type": "code",
      "source": [
        "plt.figure(figsize=(12, 6))\n",
        "sns.lineplot(x='pickup_date', y='total_daily_revenue', data=daily_revenue_pd, marker='o')\n",
        "plt.title('Total Daily Revenue from Taxi Trips')\n",
        "plt.xlabel('Date')\n",
        "plt.ylabel('Total Revenue')\n",
        "plt.tight_layout()\n",
        "plt.show()\n",
        "print(\"Total Daily Revenue from Taxi Trips\")"
      ],
      "metadata": {
        "colab": {
          "base_uri": "https://localhost:8080/",
          "height": 625
        },
        "id": "aQWfiHJPlb3q",
        "outputId": "8159cdbe-ef37-4083-b874-c9d1671e86f9"
      },
      "execution_count": null,
      "outputs": [
        {
          "output_type": "display_data",
          "data": {
            "text/plain": [
              "<Figure size 1200x600 with 1 Axes>"
            ],
            "image/png": "[encoded data removed]"
          },
          "metadata": {}
        },
        {
          "output_type": "stream",
          "name": "stdout",
          "text": [
            "Total Daily Revenue from Taxi Trips\n"
          ]
        }
      ]
    },
    {
      "cell_type": "markdown",
      "source": [
        "# Saving Results"
      ],
      "metadata": {
        "id": "6MT-qARKtrpU"
      }
    },
    {
      "cell_type": "code",
      "source": [
        "daily_summary.write.mode(\"overwrite\").parquet(\"taxi_daily_summary.parquet\")"
      ],
      "metadata": {
        "id": "dzPjvWY1t1Pa"
      },
      "execution_count": null,
      "outputs": []
    },
    {
      "cell_type": "code",
      "source": [],
      "metadata": {
        "id": "pWZ74o7FuiEq"
      },
      "execution_count": null,
      "outputs": []
    },
    {
      "cell_type": "code",
      "source": [
        "spark.stop()"
      ],
      "metadata": {
        "id": "CAN2Vfuguift"
      },
      "execution_count": null,
      "outputs": []
    },
    {
      "cell_type": "code",
      "source": [
        "print(\"Spark Session stopped.\")"
      ],
      "metadata": {
        "colab": {
          "base_uri": "https://localhost:8080/"
        },
        "id": "6EVCswyiumaJ",
        "outputId": "ac0e12cc-2d5c-46d7-eb6a-9a6e99fe135c"
      },
      "execution_count": null,
      "outputs": [
        {
          "output_type": "stream",
          "name": "stdout",
          "text": [
            "Spark Session stopped.\n"
          ]
        }
      ]
    }
  ]
}